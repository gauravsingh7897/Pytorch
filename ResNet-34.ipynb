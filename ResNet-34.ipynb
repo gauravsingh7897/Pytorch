{
 "cells": [
  {
   "cell_type": "code",
   "execution_count": 1,
   "metadata": {},
   "outputs": [],
   "source": [
    "import torch\n",
    "import pdb\n",
    "from torch import nn\n",
    "import torch.nn.functional as f\n",
    "from torchsummary import summary\n",
    "import torchvision\n",
    "import torchvision.transforms as transforms\n",
    "import numpy as np\n",
    "import matplotlib.pyplot as plt"
   ]
  },
  {
   "cell_type": "code",
   "execution_count": 2,
   "metadata": {},
   "outputs": [],
   "source": [
    "class ResNetBlock(nn.Module):\n",
    "    def __init__(self, in_channels,out_channels,strides=2,downsample=False):\n",
    "        super(ResNetBlock, self).__init__()\n",
    "        self.downsample = downsample\n",
    "        self.conv1 = nn.Conv2d(in_channels,out_channels,stride=strides,kernel_size=3,padding=1,bias=False)\n",
    "        self.bn1   = nn.BatchNorm2d(out_channels)\n",
    "        self.conv2 = nn.Conv2d(out_channels,out_channels,stride=1,kernel_size=3,padding=1,bias=False)\n",
    "        self.bn2   = nn.BatchNorm2d(out_channels)\n",
    "        self.conv3 = nn.Conv2d(in_channels,out_channels,stride=strides,kernel_size=1,padding=0,bias=False)\n",
    "        \n",
    "    def forward(self,x):\n",
    "        residual = x\n",
    "        x = f.relu(self.bn1(self.conv1(x)))\n",
    "        x = self.bn2(self.conv2(x))\n",
    "        if self.downsample == True:\n",
    "            residual = self.bn2(self.conv3(residual))\n",
    "        x = x + residual\n",
    "        x = f.relu(x)\n",
    "        return x"
   ]
  },
  {
   "cell_type": "code",
   "execution_count": 3,
   "metadata": {},
   "outputs": [],
   "source": [
    "# check resnet block\n",
    "# net = ResNetBlock(32,64,downsample=True)"
   ]
  },
  {
   "cell_type": "code",
   "execution_count": 4,
   "metadata": {},
   "outputs": [],
   "source": [
    "# net.to('cuda')\n",
    "# summary(net,input_size=(32,224,224))"
   ]
  },
  {
   "cell_type": "code",
   "execution_count": 5,
   "metadata": {},
   "outputs": [],
   "source": [
    "class ResNet(nn.Module):\n",
    "    def __init__(self,in_channels,base_channels,output,block):\n",
    "        super(ResNet, self).__init__()\n",
    "        self.conv1 = nn.Conv2d(in_channels,base_channels,stride=2,kernel_size=7,padding=3,bias=False)\n",
    "        self.bn1   = nn.BatchNorm2d(base_channels)\n",
    "        self.maxpool = nn.MaxPool2d(kernel_size=3,stride=2,padding=1)\n",
    "        self.layer1  = self._make_layer(block,3,False,base_channels,base_channels)\n",
    "        self.layer2  = self._make_layer(block,4,True,base_channels,base_channels*2)\n",
    "        self.layer3  = self._make_layer(block,6,True,base_channels*2,base_channels*4)\n",
    "        self.layer4  = self._make_layer(block,3,True,base_channels*4,base_channels*8)\n",
    "        self.avgpool = nn.AdaptiveAvgPool2d((1,1))\n",
    "        self.dense   = nn.Linear(base_channels*8,output)\n",
    "    \n",
    "    def _make_layer(self,block,no_layer,downsample,in_channels,out_channels):\n",
    "        layers = []\n",
    "        if downsample == True:\n",
    "            layers.append(block(in_channels,out_channels,downsample=True))\n",
    "        else:\n",
    "            layers.append(block(in_channels,out_channels,strides=1))\n",
    "            \n",
    "        for _ in range(no_layer-1):\n",
    "            layers.append(block(out_channels,out_channels,strides=1))\n",
    "            \n",
    "        return nn.Sequential(*layers)\n",
    "    \n",
    "    def forward(self,x):\n",
    "        x = f.relu(self.bn1(self.conv1(x)))\n",
    "        x = self.maxpool(x)\n",
    "        x = self.layer1(x)\n",
    "        x = self.layer2(x)\n",
    "        x = self.layer3(x)\n",
    "        x = self.layer4(x)\n",
    "        x = self.avgpool(x)\n",
    "        x = torch.flatten(x,1)\n",
    "        x = f.relu(self.dense(x))\n",
    "        return x"
   ]
  },
  {
   "cell_type": "code",
   "execution_count": 13,
   "metadata": {},
   "outputs": [],
   "source": [
    "net = ResNet(3,64,1000,ResNetBlock)\n",
    "device = 'cuda' if torch.cuda.is_available() else 'cpu'\n",
    "net = net.to(device)"
   ]
  },
  {
   "cell_type": "code",
   "execution_count": 7,
   "metadata": {},
   "outputs": [],
   "source": [
    "# net.to('cuda')\n",
    "# summary(net,input_size=(3,32,32))"
   ]
  },
  {
   "cell_type": "code",
   "execution_count": 8,
   "metadata": {},
   "outputs": [
    {
     "name": "stdout",
     "output_type": "stream",
     "text": [
      "Files already downloaded and verified\n",
      "Files already downloaded and verified\n"
     ]
    }
   ],
   "source": [
    "def load_data():\n",
    "    transform = transforms.Compose([\n",
    "    transforms.RandomHorizontalFlip(0.5),\n",
    "    transforms.RandomVerticalFlip(0.5),\n",
    "    transforms.ToTensor(),\n",
    "    transforms.Normalize((0.5,0.5,0.5),(0.5,0.5,0.5))\n",
    "    ])\n",
    "    train = torchvision.datasets.CIFAR10(root='./data',train=True,download=True,transform=transform)\n",
    "    train = torch.utils.data.DataLoader(train,batch_size=256,shuffle=True)\n",
    "    test = torchvision.datasets.CIFAR10(root='./data',train=False,download=True,transform=transform)\n",
    "    test = torch.utils.data.DataLoader(test,batch_size=256,shuffle=False)\n",
    "    return train,test\n",
    "\n",
    "classes = ('plane', 'car', 'bird', 'cat', 'deer',\n",
    "           'dog', 'frog', 'horse', 'ship', 'truck')\n",
    "train, test = load_data()"
   ]
  },
  {
   "cell_type": "code",
   "execution_count": 9,
   "metadata": {},
   "outputs": [],
   "source": [
    "costFunction = torch.nn.CrossEntropyLoss()\n",
    "optimizer    = torch.optim.SGD(net.parameters(),lr=0.001, momentum=0.9, weight_decay=5e-4)"
   ]
  },
  {
   "cell_type": "code",
   "execution_count": 10,
   "metadata": {},
   "outputs": [],
   "source": [
    "def train_model(epochs):\n",
    "    net.train()\n",
    "    device = 'cuda' if torch.cuda.is_available() else 'cpu'\n",
    "    for epoch in range(epochs):\n",
    "        total_loss = 0\n",
    "        losses = []\n",
    "        for i,(x,y) in enumerate(train,0):\n",
    "            x,y = x.to(device), y.to(device)\n",
    "            prediction = net(x)\n",
    "            loss = costFunction(prediction, y)\n",
    "            total_loss += loss.item()\n",
    "            optimizer.zero_grad()\n",
    "            loss.backward()\n",
    "            optimizer.step()\n",
    "            if i%9==0:\n",
    "                losses.append(loss.item())\n",
    "            if i%99 == 0:\n",
    "                print('[%d %d] loss: %.4f'%(epoch+1,i,total_loss/1000))\n",
    "                total_loss=0\n",
    "        accuracy()\n",
    "        plt.plot(losses,label='epoch'+str(epoch))\n",
    "        plt.legend(loc=1,mode='expanded',shadow=True,ncol=2)\n",
    "    plt.show()"
   ]
  },
  {
   "cell_type": "code",
   "execution_count": 11,
   "metadata": {},
   "outputs": [],
   "source": [
    "def accuracy():\n",
    "    net.eval()\n",
    "    correct=0\n",
    "    total=0\n",
    "    accuracy=0\n",
    "    device = 'cuda' if torch.cuda.is_available() else 'cpu'\n",
    "    for (x,y) in test:\n",
    "        x,y = x.to(device), y.to(device)\n",
    "        prediction = net(x)\n",
    "        _, prediction = torch.max(prediction.data,1)\n",
    "        total += y.size(0)\n",
    "        correct += (prediction==y).sum().item()\n",
    "        accuracy = (correct/total)*100\n",
    "        \n",
    "    print('Accuracy on test ' + str(accuracy))"
   ]
  },
  {
   "cell_type": "code",
   "execution_count": 12,
   "metadata": {},
   "outputs": [
    {
     "name": "stdout",
     "output_type": "stream",
     "text": [
      "[1 1] loss: 0.0072\n",
      "[1 101] loss: 0.2742\n",
      "Accuracy on test 34.28\n",
      "[2 1] loss: 0.0018\n",
      "[2 101] loss: 0.1604\n",
      "Accuracy on test 46.56\n",
      "[3 1] loss: 0.0015\n",
      "[3 101] loss: 0.1423\n",
      "Accuracy on test 49.220000000000006\n",
      "[4 1] loss: 0.0015\n",
      "[4 101] loss: 0.1320\n",
      "Accuracy on test 53.97\n",
      "[5 1] loss: 0.0013\n",
      "[5 101] loss: 0.1244\n",
      "Accuracy on test 55.24\n"
     ]
    },
    {
     "data": {
      "image/png": "[encoded data removed]",
      "text/plain": [
       "<Figure size 432x288 with 1 Axes>"
      ]
     },
     "metadata": {
      "needs_background": "light"
     },
     "output_type": "display_data"
    }
   ],
   "source": [
    "train_model(5)"
   ]
  },
  {
   "cell_type": "code",
   "execution_count": null,
   "metadata": {},
   "outputs": [],
   "source": []
  },
  {
   "cell_type": "code",
   "execution_count": null,
   "metadata": {},
   "outputs": [],
   "source": []
  }
 ],
 "metadata": {
  "kernelspec": {
   "display_name": "Python 3",
   "language": "python",
   "name": "python3"
  },
  "language_info": {
   "codemirror_mode": {
    "name": "ipython",
    "version": 3
   },
   "file_extension": ".py",
   "mimetype": "text/x-python",
   "name": "python",
   "nbconvert_exporter": "python",
   "pygments_lexer": "ipython3",
   "version": "3.7.0"
  }
 },
 "nbformat": 4,
 "nbformat_minor": 4
}
